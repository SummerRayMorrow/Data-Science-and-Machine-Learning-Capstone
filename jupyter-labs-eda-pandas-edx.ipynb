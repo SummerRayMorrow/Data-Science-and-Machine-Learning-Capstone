{
 "cells": [
  {
   "cell_type": "code",
   "execution_count": 90,
   "metadata": {},
   "outputs": [
    {
     "data": {
      "text/plain": [
       "Index(['Date', 'Time (UTC)', 'Booster_Version', 'Launch_Site', 'Payload',\n",
       "       'PAYLOAD_MASS__KG_', 'Orbit', 'Customer', 'Mission_Outcome',\n",
       "       'Landing_Outcome'],\n",
       "      dtype='object')"
      ]
     },
     "execution_count": 90,
     "metadata": {},
     "output_type": "execute_result"
    }
   ],
   "source": [
    "import pandas as pd # Python library for data manipulation and analysis.\n",
    "\n",
    "# import data from csv\n",
    "df = pd.read_csv('Spacex.csv')\n",
    "df.columns"
   ]
  },
  {
   "cell_type": "code",
   "execution_count": 104,
   "metadata": {},
   "outputs": [
    {
     "name": "stdout",
     "output_type": "stream",
     "text": [
      "Task 1:\n",
      " ['CCAFS LC-40' 'VAFB SLC-4E' 'KSC LC-39A' 'CCAFS SLC-40']\n"
     ]
    }
   ],
   "source": [
    "# Task 1: Display the names of the unique df[launch_site]\n",
    "unique_launch_site_names = df['Launch_Site'].unique()\n",
    "\n",
    "#%sql select distinct Launch_Site from SPACEXTBL\n",
    "print('Task 1:\\n', unique_launch_site_names)"
   ]
  },
  {
   "cell_type": "code",
   "execution_count": 112,
   "metadata": {},
   "outputs": [
    {
     "name": "stdout",
     "output_type": "stream",
     "text": [
      "Task 2:  The first 5 launches at Kennedy Space Center\n",
      "\n",
      "          Date Time (UTC) Booster_Version Launch_Site        Payload  \\\n",
      "29 2017-02-19   14:39:00   F9 FT B1031.1  KSC LC-39A  SpaceX CRS-10   \n",
      "30 2017-03-16    6:00:00     F9 FT B1030  KSC LC-39A    EchoStar 23   \n",
      "31 2017-03-30   22:27:00  F9 FT  B1021.2  KSC LC-39A         SES-10   \n",
      "32 2017-01-05   11:15:00   F9 FT B1032.1  KSC LC-39A        NROL-76   \n",
      "33 2017-05-15   23:21:00     F9 FT B1034  KSC LC-39A  Inmarsat-5 F4   \n",
      "\n",
      "    PAYLOAD_MASS__KG_      Orbit    Customer Mission_Outcome  \\\n",
      "29               2490  LEO (ISS)  NASA (CRS)         Success   \n",
      "30               5600        GTO    EchoStar         Success   \n",
      "31               5300        GTO         SES         Success   \n",
      "32               5300        LEO         NRO         Success   \n",
      "33               6070        GTO    Inmarsat         Success   \n",
      "\n",
      "         Landing_Outcome  \n",
      "29  Success (ground pad)  \n",
      "30            No attempt  \n",
      "31  Success (drone ship)  \n",
      "32  Success (ground pad)  \n",
      "33            No attempt  \n"
     ]
    }
   ],
   "source": [
    "# Task 2: Display 5 records where launch sites begin with the string 'KSC'\n",
    "launch_at_ksc = df[(df['Launch_Site'] == 'KSC LC-39A')]\n",
    "print('Task 2: ', 'The first 5 launches at Kennedy Space Center\\n\\n', launch_at_ksc.head(5))\n"
   ]
  },
  {
   "cell_type": "code",
   "execution_count": 93,
   "metadata": {},
   "outputs": [
    {
     "name": "stdout",
     "output_type": "stream",
     "text": [
      "Task 3: Total payload mass carried by boosters launched by NASA: 45596 kg\n"
     ]
    }
   ],
   "source": [
    "# Task 3: Display the total payload mass carried by boosters launched by NASA (CRS)\n",
    "total_payload_mass = df.query(\"Customer == 'NASA (CRS)'\")['PAYLOAD_MASS__KG_'].sum()\n",
    "print('Task 3:', 'Total payload mass carried by boosters launched by NASA:', total_payload_mass, 'kg')"
   ]
  },
  {
   "cell_type": "code",
   "execution_count": 94,
   "metadata": {},
   "outputs": [
    {
     "name": "stdout",
     "output_type": "stream",
     "text": [
      "Task 4: The Average payload mass carried by Falcon 9 v1.1: 2928.4 kg\n"
     ]
    }
   ],
   "source": [
    "# Task 4: Display average payload mass carried by booster version F9 v1.1\n",
    "average_payload_mass = df.query(\"Booster_Version == 'F9 v1.1'\")['PAYLOAD_MASS__KG_'].mean()\n",
    "print('Task 4:', 'The Average payload mass carried by Falcon 9 v1.1:', average_payload_mass, 'kg')"
   ]
  },
  {
   "cell_type": "code",
   "execution_count": 95,
   "metadata": {},
   "outputs": [
    {
     "name": "stdout",
     "output_type": "stream",
     "text": [
      "Task 5:\n",
      " 11/10/2017\n"
     ]
    }
   ],
   "source": [
    "# Task 5: List the date where the first successful landing outcome in drone ship was acheived.\n",
    "first_successful_drone_ship_landing = df.query(\"Landing_Outcome == 'Success (drone ship)'\")['Date'].min()\n",
    "print('Task 5:\\n', first_successful_drone_ship_landing)"
   ]
  },
  {
   "cell_type": "code",
   "execution_count": 96,
   "metadata": {},
   "outputs": [
    {
     "name": "stdout",
     "output_type": "stream",
     "text": [
      "Task 6:\n",
      " 32    F9 FT B1032.1\n",
      "40    F9 B4 B1040.1\n",
      "46    F9 B4 B1043.1\n",
      "Name: Booster_Version, dtype: object \n",
      "\n"
     ]
    }
   ],
   "source": [
    "# Task 6: List the names of the boosters which have success in ground pad and have payload mass greater than 4000 but less than 6000\n",
    "boosters = df.query(\"Landing_Outcome == 'Success (ground pad)' and PAYLOAD_MASS__KG_ > 4000 and PAYLOAD_MASS__KG_ < 6000\")['Booster_Version']\n",
    "print('Task 6:\\n', boosters, '\\n')"
   ]
  },
  {
   "cell_type": "code",
   "execution_count": 97,
   "metadata": {},
   "outputs": [
    {
     "name": "stdout",
     "output_type": "stream",
     "text": [
      "Task 7:\n",
      " Total Success:  98\n",
      " Total Failure:  3\n"
     ]
    }
   ],
   "source": [
    "# Task 7: List the total number of successful and failure mission outcomes\n",
    "total_success = len(df.query(\"Mission_Outcome == 'Success'\"))\n",
    "print('Task 7:\\n','Total Success: ', total_success)\n",
    "\n",
    "total_failure = len(df.query(\"Mission_Outcome != 'Success'\"))\n",
    "print(' Total Failure: ', total_failure)"
   ]
  },
  {
   "cell_type": "code",
   "execution_count": 98,
   "metadata": {},
   "outputs": [
    {
     "name": "stdout",
     "output_type": "stream",
     "text": [
      "Task 8:\n",
      " Unique booster versions that have carried the maximum payload mass:\n",
      "  ['F9 B5 B1048.4' 'F9 B5 B1049.4' 'F9 B5 B1051.3' 'F9 B5 B1056.4'\n",
      " 'F9 B5 B1048.5' 'F9 B5 B1051.4' 'F9 B5 B1049.5' 'F9 B5 B1060.2 '\n",
      " 'F9 B5 B1058.3 ' 'F9 B5 B1051.6' 'F9 B5 B1060.3' 'F9 B5 B1049.7 ']\n"
     ]
    }
   ],
   "source": [
    "# Task 8: List the names of the Unique booster_version which have carried the maximum payload mass. Use a subquery\n",
    "max_payload_mass = df['PAYLOAD_MASS__KG_'].max()\n",
    "max_payload_versions = df[df['PAYLOAD_MASS__KG_'] == max_payload_mass]['Booster_Version'].unique()\n",
    "print('Task 8:\\n', 'Unique booster versions that have carried the maximum payload mass:\\n ', max_payload_versions)"
   ]
  },
  {
   "cell_type": "code",
   "execution_count": 99,
   "metadata": {},
   "outputs": [
    {
     "name": "stdout",
     "output_type": "stream",
     "text": [
      "Task 9:\n",
      "               Date       Landing_Outcome Booster_Version   Launch_Site\n",
      "29  February, 2017  Success (ground pad)   F9 FT B1031.1    KSC LC-39A\n",
      "32   January, 2017  Success (ground pad)   F9 FT B1032.1    KSC LC-39A\n",
      "34     March, 2017  Success (ground pad)   F9 FT B1035.1    KSC LC-39A\n",
      "38    August, 2017  Success (ground pad)   F9 B4 B1039.1    KSC LC-39A\n",
      "40      July, 2017  Success (ground pad)   F9 B4 B1040.1    KSC LC-39A\n",
      "44  December, 2017  Success (ground pad)  F9 FT  B1035.2  CCAFS SLC-40\n"
     ]
    },
    {
     "name": "stderr",
     "output_type": "stream",
     "text": [
      "C:\\Users\\SummerRay\\AppData\\Local\\Temp\\ipykernel_39688\\1130684559.py:2: UserWarning: Parsing '22-05-2012' in DD/MM/YYYY format. Provide format or specify infer_datetime_format=True for consistent parsing.\n",
      "  df['Date']= pd.to_datetime(df['Date'], infer_datetime_format=True)\n",
      "C:\\Users\\SummerRay\\AppData\\Local\\Temp\\ipykernel_39688\\1130684559.py:2: UserWarning: Parsing '29-09-2013' in DD/MM/YYYY format. Provide format or specify infer_datetime_format=True for consistent parsing.\n",
      "  df['Date']= pd.to_datetime(df['Date'], infer_datetime_format=True)\n",
      "C:\\Users\\SummerRay\\AppData\\Local\\Temp\\ipykernel_39688\\1130684559.py:2: UserWarning: Parsing '18-04-2014' in DD/MM/YYYY format. Provide format or specify infer_datetime_format=True for consistent parsing.\n",
      "  df['Date']= pd.to_datetime(df['Date'], infer_datetime_format=True)\n",
      "C:\\Users\\SummerRay\\AppData\\Local\\Temp\\ipykernel_39688\\1130684559.py:2: UserWarning: Parsing '14-07-2014' in DD/MM/YYYY format. Provide format or specify infer_datetime_format=True for consistent parsing.\n",
      "  df['Date']= pd.to_datetime(df['Date'], infer_datetime_format=True)\n",
      "C:\\Users\\SummerRay\\AppData\\Local\\Temp\\ipykernel_39688\\1130684559.py:2: UserWarning: Parsing '21-09-2014' in DD/MM/YYYY format. Provide format or specify infer_datetime_format=True for consistent parsing.\n",
      "  df['Date']= pd.to_datetime(df['Date'], infer_datetime_format=True)\n",
      "C:\\Users\\SummerRay\\AppData\\Local\\Temp\\ipykernel_39688\\1130684559.py:2: UserWarning: Parsing '14-04-2015' in DD/MM/YYYY format. Provide format or specify infer_datetime_format=True for consistent parsing.\n",
      "  df['Date']= pd.to_datetime(df['Date'], infer_datetime_format=True)\n",
      "C:\\Users\\SummerRay\\AppData\\Local\\Temp\\ipykernel_39688\\1130684559.py:2: UserWarning: Parsing '27-04-2015' in DD/MM/YYYY format. Provide format or specify infer_datetime_format=True for consistent parsing.\n",
      "  df['Date']= pd.to_datetime(df['Date'], infer_datetime_format=True)\n",
      "C:\\Users\\SummerRay\\AppData\\Local\\Temp\\ipykernel_39688\\1130684559.py:2: UserWarning: Parsing '28-06-2015' in DD/MM/YYYY format. Provide format or specify infer_datetime_format=True for consistent parsing.\n",
      "  df['Date']= pd.to_datetime(df['Date'], infer_datetime_format=True)\n",
      "C:\\Users\\SummerRay\\AppData\\Local\\Temp\\ipykernel_39688\\1130684559.py:2: UserWarning: Parsing '22-12-2015' in DD/MM/YYYY format. Provide format or specify infer_datetime_format=True for consistent parsing.\n",
      "  df['Date']= pd.to_datetime(df['Date'], infer_datetime_format=True)\n",
      "C:\\Users\\SummerRay\\AppData\\Local\\Temp\\ipykernel_39688\\1130684559.py:2: UserWarning: Parsing '17-01-2016' in DD/MM/YYYY format. Provide format or specify infer_datetime_format=True for consistent parsing.\n",
      "  df['Date']= pd.to_datetime(df['Date'], infer_datetime_format=True)\n",
      "C:\\Users\\SummerRay\\AppData\\Local\\Temp\\ipykernel_39688\\1130684559.py:2: UserWarning: Parsing '27-05-2016' in DD/MM/YYYY format. Provide format or specify infer_datetime_format=True for consistent parsing.\n",
      "  df['Date']= pd.to_datetime(df['Date'], infer_datetime_format=True)\n",
      "C:\\Users\\SummerRay\\AppData\\Local\\Temp\\ipykernel_39688\\1130684559.py:2: UserWarning: Parsing '15-06-2016' in DD/MM/YYYY format. Provide format or specify infer_datetime_format=True for consistent parsing.\n",
      "  df['Date']= pd.to_datetime(df['Date'], infer_datetime_format=True)\n",
      "C:\\Users\\SummerRay\\AppData\\Local\\Temp\\ipykernel_39688\\1130684559.py:2: UserWarning: Parsing '18-07-2016' in DD/MM/YYYY format. Provide format or specify infer_datetime_format=True for consistent parsing.\n",
      "  df['Date']= pd.to_datetime(df['Date'], infer_datetime_format=True)\n",
      "C:\\Users\\SummerRay\\AppData\\Local\\Temp\\ipykernel_39688\\1130684559.py:2: UserWarning: Parsing '14-08-2016' in DD/MM/YYYY format. Provide format or specify infer_datetime_format=True for consistent parsing.\n",
      "  df['Date']= pd.to_datetime(df['Date'], infer_datetime_format=True)\n",
      "C:\\Users\\SummerRay\\AppData\\Local\\Temp\\ipykernel_39688\\1130684559.py:2: UserWarning: Parsing '14-01-2017' in DD/MM/YYYY format. Provide format or specify infer_datetime_format=True for consistent parsing.\n",
      "  df['Date']= pd.to_datetime(df['Date'], infer_datetime_format=True)\n",
      "C:\\Users\\SummerRay\\AppData\\Local\\Temp\\ipykernel_39688\\1130684559.py:2: UserWarning: Parsing '19-02-2017' in DD/MM/YYYY format. Provide format or specify infer_datetime_format=True for consistent parsing.\n",
      "  df['Date']= pd.to_datetime(df['Date'], infer_datetime_format=True)\n",
      "C:\\Users\\SummerRay\\AppData\\Local\\Temp\\ipykernel_39688\\1130684559.py:2: UserWarning: Parsing '16-03-2017' in DD/MM/YYYY format. Provide format or specify infer_datetime_format=True for consistent parsing.\n",
      "  df['Date']= pd.to_datetime(df['Date'], infer_datetime_format=True)\n",
      "C:\\Users\\SummerRay\\AppData\\Local\\Temp\\ipykernel_39688\\1130684559.py:2: UserWarning: Parsing '30-03-2017' in DD/MM/YYYY format. Provide format or specify infer_datetime_format=True for consistent parsing.\n",
      "  df['Date']= pd.to_datetime(df['Date'], infer_datetime_format=True)\n",
      "C:\\Users\\SummerRay\\AppData\\Local\\Temp\\ipykernel_39688\\1130684559.py:2: UserWarning: Parsing '15-05-2017' in DD/MM/YYYY format. Provide format or specify infer_datetime_format=True for consistent parsing.\n",
      "  df['Date']= pd.to_datetime(df['Date'], infer_datetime_format=True)\n",
      "C:\\Users\\SummerRay\\AppData\\Local\\Temp\\ipykernel_39688\\1130684559.py:2: UserWarning: Parsing '23-06-2017' in DD/MM/YYYY format. Provide format or specify infer_datetime_format=True for consistent parsing.\n",
      "  df['Date']= pd.to_datetime(df['Date'], infer_datetime_format=True)\n",
      "C:\\Users\\SummerRay\\AppData\\Local\\Temp\\ipykernel_39688\\1130684559.py:2: UserWarning: Parsing '25-06-2017' in DD/MM/YYYY format. Provide format or specify infer_datetime_format=True for consistent parsing.\n",
      "  df['Date']= pd.to_datetime(df['Date'], infer_datetime_format=True)\n",
      "C:\\Users\\SummerRay\\AppData\\Local\\Temp\\ipykernel_39688\\1130684559.py:2: UserWarning: Parsing '14-08-2017' in DD/MM/YYYY format. Provide format or specify infer_datetime_format=True for consistent parsing.\n",
      "  df['Date']= pd.to_datetime(df['Date'], infer_datetime_format=True)\n",
      "C:\\Users\\SummerRay\\AppData\\Local\\Temp\\ipykernel_39688\\1130684559.py:2: UserWarning: Parsing '24-08-2017' in DD/MM/YYYY format. Provide format or specify infer_datetime_format=True for consistent parsing.\n",
      "  df['Date']= pd.to_datetime(df['Date'], infer_datetime_format=True)\n",
      "C:\\Users\\SummerRay\\AppData\\Local\\Temp\\ipykernel_39688\\1130684559.py:2: UserWarning: Parsing '30-10-2017' in DD/MM/YYYY format. Provide format or specify infer_datetime_format=True for consistent parsing.\n",
      "  df['Date']= pd.to_datetime(df['Date'], infer_datetime_format=True)\n",
      "C:\\Users\\SummerRay\\AppData\\Local\\Temp\\ipykernel_39688\\1130684559.py:2: UserWarning: Parsing '15-12-2017' in DD/MM/YYYY format. Provide format or specify infer_datetime_format=True for consistent parsing.\n",
      "  df['Date']= pd.to_datetime(df['Date'], infer_datetime_format=True)\n",
      "C:\\Users\\SummerRay\\AppData\\Local\\Temp\\ipykernel_39688\\1130684559.py:2: UserWarning: Parsing '23-12-2017' in DD/MM/YYYY format. Provide format or specify infer_datetime_format=True for consistent parsing.\n",
      "  df['Date']= pd.to_datetime(df['Date'], infer_datetime_format=True)\n",
      "C:\\Users\\SummerRay\\AppData\\Local\\Temp\\ipykernel_39688\\1130684559.py:2: UserWarning: Parsing '31-01-2018' in DD/MM/YYYY format. Provide format or specify infer_datetime_format=True for consistent parsing.\n",
      "  df['Date']= pd.to_datetime(df['Date'], infer_datetime_format=True)\n",
      "C:\\Users\\SummerRay\\AppData\\Local\\Temp\\ipykernel_39688\\1130684559.py:2: UserWarning: Parsing '22-02-2018' in DD/MM/YYYY format. Provide format or specify infer_datetime_format=True for consistent parsing.\n",
      "  df['Date']= pd.to_datetime(df['Date'], infer_datetime_format=True)\n",
      "C:\\Users\\SummerRay\\AppData\\Local\\Temp\\ipykernel_39688\\1130684559.py:2: UserWarning: Parsing '30-03-2018' in DD/MM/YYYY format. Provide format or specify infer_datetime_format=True for consistent parsing.\n",
      "  df['Date']= pd.to_datetime(df['Date'], infer_datetime_format=True)\n",
      "C:\\Users\\SummerRay\\AppData\\Local\\Temp\\ipykernel_39688\\1130684559.py:2: UserWarning: Parsing '18-04-2018' in DD/MM/YYYY format. Provide format or specify infer_datetime_format=True for consistent parsing.\n",
      "  df['Date']= pd.to_datetime(df['Date'], infer_datetime_format=True)\n",
      "C:\\Users\\SummerRay\\AppData\\Local\\Temp\\ipykernel_39688\\1130684559.py:2: UserWarning: Parsing '22-05-2018' in DD/MM/YYYY format. Provide format or specify infer_datetime_format=True for consistent parsing.\n",
      "  df['Date']= pd.to_datetime(df['Date'], infer_datetime_format=True)\n",
      "C:\\Users\\SummerRay\\AppData\\Local\\Temp\\ipykernel_39688\\1130684559.py:2: UserWarning: Parsing '29-06-2018' in DD/MM/YYYY format. Provide format or specify infer_datetime_format=True for consistent parsing.\n",
      "  df['Date']= pd.to_datetime(df['Date'], infer_datetime_format=True)\n",
      "C:\\Users\\SummerRay\\AppData\\Local\\Temp\\ipykernel_39688\\1130684559.py:2: UserWarning: Parsing '22-07-2018' in DD/MM/YYYY format. Provide format or specify infer_datetime_format=True for consistent parsing.\n",
      "  df['Date']= pd.to_datetime(df['Date'], infer_datetime_format=True)\n",
      "C:\\Users\\SummerRay\\AppData\\Local\\Temp\\ipykernel_39688\\1130684559.py:2: UserWarning: Parsing '25-07-2018' in DD/MM/YYYY format. Provide format or specify infer_datetime_format=True for consistent parsing.\n",
      "  df['Date']= pd.to_datetime(df['Date'], infer_datetime_format=True)\n",
      "C:\\Users\\SummerRay\\AppData\\Local\\Temp\\ipykernel_39688\\1130684559.py:2: UserWarning: Parsing '15-11-2018' in DD/MM/YYYY format. Provide format or specify infer_datetime_format=True for consistent parsing.\n",
      "  df['Date']= pd.to_datetime(df['Date'], infer_datetime_format=True)\n",
      "C:\\Users\\SummerRay\\AppData\\Local\\Temp\\ipykernel_39688\\1130684559.py:2: UserWarning: Parsing '23-12-2018' in DD/MM/YYYY format. Provide format or specify infer_datetime_format=True for consistent parsing.\n",
      "  df['Date']= pd.to_datetime(df['Date'], infer_datetime_format=True)\n",
      "C:\\Users\\SummerRay\\AppData\\Local\\Temp\\ipykernel_39688\\1130684559.py:2: UserWarning: Parsing '22-02-2019' in DD/MM/YYYY format. Provide format or specify infer_datetime_format=True for consistent parsing.\n",
      "  df['Date']= pd.to_datetime(df['Date'], infer_datetime_format=True)\n",
      "C:\\Users\\SummerRay\\AppData\\Local\\Temp\\ipykernel_39688\\1130684559.py:2: UserWarning: Parsing '24-05-2019' in DD/MM/YYYY format. Provide format or specify infer_datetime_format=True for consistent parsing.\n",
      "  df['Date']= pd.to_datetime(df['Date'], infer_datetime_format=True)\n",
      "C:\\Users\\SummerRay\\AppData\\Local\\Temp\\ipykernel_39688\\1130684559.py:2: UserWarning: Parsing '25-07-2019' in DD/MM/YYYY format. Provide format or specify infer_datetime_format=True for consistent parsing.\n",
      "  df['Date']= pd.to_datetime(df['Date'], infer_datetime_format=True)\n",
      "C:\\Users\\SummerRay\\AppData\\Local\\Temp\\ipykernel_39688\\1130684559.py:2: UserWarning: Parsing '17-12-2019' in DD/MM/YYYY format. Provide format or specify infer_datetime_format=True for consistent parsing.\n",
      "  df['Date']= pd.to_datetime(df['Date'], infer_datetime_format=True)\n",
      "C:\\Users\\SummerRay\\AppData\\Local\\Temp\\ipykernel_39688\\1130684559.py:2: UserWarning: Parsing '19-01-2020' in DD/MM/YYYY format. Provide format or specify infer_datetime_format=True for consistent parsing.\n",
      "  df['Date']= pd.to_datetime(df['Date'], infer_datetime_format=True)\n",
      "C:\\Users\\SummerRay\\AppData\\Local\\Temp\\ipykernel_39688\\1130684559.py:2: UserWarning: Parsing '29-01-2020' in DD/MM/YYYY format. Provide format or specify infer_datetime_format=True for consistent parsing.\n",
      "  df['Date']= pd.to_datetime(df['Date'], infer_datetime_format=True)\n",
      "C:\\Users\\SummerRay\\AppData\\Local\\Temp\\ipykernel_39688\\1130684559.py:2: UserWarning: Parsing '17-02-2020' in DD/MM/YYYY format. Provide format or specify infer_datetime_format=True for consistent parsing.\n",
      "  df['Date']= pd.to_datetime(df['Date'], infer_datetime_format=True)\n",
      "C:\\Users\\SummerRay\\AppData\\Local\\Temp\\ipykernel_39688\\1130684559.py:2: UserWarning: Parsing '18-03-2020' in DD/MM/YYYY format. Provide format or specify infer_datetime_format=True for consistent parsing.\n",
      "  df['Date']= pd.to_datetime(df['Date'], infer_datetime_format=True)\n",
      "C:\\Users\\SummerRay\\AppData\\Local\\Temp\\ipykernel_39688\\1130684559.py:2: UserWarning: Parsing '22-04-2020' in DD/MM/YYYY format. Provide format or specify infer_datetime_format=True for consistent parsing.\n",
      "  df['Date']= pd.to_datetime(df['Date'], infer_datetime_format=True)\n",
      "C:\\Users\\SummerRay\\AppData\\Local\\Temp\\ipykernel_39688\\1130684559.py:2: UserWarning: Parsing '30-05-2020' in DD/MM/YYYY format. Provide format or specify infer_datetime_format=True for consistent parsing.\n",
      "  df['Date']= pd.to_datetime(df['Date'], infer_datetime_format=True)\n",
      "C:\\Users\\SummerRay\\AppData\\Local\\Temp\\ipykernel_39688\\1130684559.py:2: UserWarning: Parsing '13-06-2020' in DD/MM/YYYY format. Provide format or specify infer_datetime_format=True for consistent parsing.\n",
      "  df['Date']= pd.to_datetime(df['Date'], infer_datetime_format=True)\n",
      "C:\\Users\\SummerRay\\AppData\\Local\\Temp\\ipykernel_39688\\1130684559.py:2: UserWarning: Parsing '30-06-2020' in DD/MM/YYYY format. Provide format or specify infer_datetime_format=True for consistent parsing.\n",
      "  df['Date']= pd.to_datetime(df['Date'], infer_datetime_format=True)\n",
      "C:\\Users\\SummerRay\\AppData\\Local\\Temp\\ipykernel_39688\\1130684559.py:2: UserWarning: Parsing '20-07-2020' in DD/MM/YYYY format. Provide format or specify infer_datetime_format=True for consistent parsing.\n",
      "  df['Date']= pd.to_datetime(df['Date'], infer_datetime_format=True)\n",
      "C:\\Users\\SummerRay\\AppData\\Local\\Temp\\ipykernel_39688\\1130684559.py:2: UserWarning: Parsing '18-08-2020' in DD/MM/YYYY format. Provide format or specify infer_datetime_format=True for consistent parsing.\n",
      "  df['Date']= pd.to_datetime(df['Date'], infer_datetime_format=True)\n",
      "C:\\Users\\SummerRay\\AppData\\Local\\Temp\\ipykernel_39688\\1130684559.py:2: UserWarning: Parsing '30-08-2020' in DD/MM/YYYY format. Provide format or specify infer_datetime_format=True for consistent parsing.\n",
      "  df['Date']= pd.to_datetime(df['Date'], infer_datetime_format=True)\n",
      "C:\\Users\\SummerRay\\AppData\\Local\\Temp\\ipykernel_39688\\1130684559.py:2: UserWarning: Parsing '18-10-2020' in DD/MM/YYYY format. Provide format or specify infer_datetime_format=True for consistent parsing.\n",
      "  df['Date']= pd.to_datetime(df['Date'], infer_datetime_format=True)\n",
      "C:\\Users\\SummerRay\\AppData\\Local\\Temp\\ipykernel_39688\\1130684559.py:2: UserWarning: Parsing '24-10-2020' in DD/MM/YYYY format. Provide format or specify infer_datetime_format=True for consistent parsing.\n",
      "  df['Date']= pd.to_datetime(df['Date'], infer_datetime_format=True)\n",
      "C:\\Users\\SummerRay\\AppData\\Local\\Temp\\ipykernel_39688\\1130684559.py:2: UserWarning: Parsing '16-11-2020' in DD/MM/YYYY format. Provide format or specify infer_datetime_format=True for consistent parsing.\n",
      "  df['Date']= pd.to_datetime(df['Date'], infer_datetime_format=True)\n",
      "C:\\Users\\SummerRay\\AppData\\Local\\Temp\\ipykernel_39688\\1130684559.py:2: UserWarning: Parsing '21-11-2020' in DD/MM/YYYY format. Provide format or specify infer_datetime_format=True for consistent parsing.\n",
      "  df['Date']= pd.to_datetime(df['Date'], infer_datetime_format=True)\n",
      "C:\\Users\\SummerRay\\AppData\\Local\\Temp\\ipykernel_39688\\1130684559.py:2: UserWarning: Parsing '25-11-2020' in DD/MM/YYYY format. Provide format or specify infer_datetime_format=True for consistent parsing.\n",
      "  df['Date']= pd.to_datetime(df['Date'], infer_datetime_format=True)\n",
      "C:\\Users\\SummerRay\\AppData\\Local\\Temp\\ipykernel_39688\\1130684559.py:4: SettingWithCopyWarning: \n",
      "A value is trying to be set on a copy of a slice from a DataFrame.\n",
      "Try using .loc[row_indexer,col_indexer] = value instead\n",
      "\n",
      "See the caveats in the documentation: https://pandas.pydata.org/pandas-docs/stable/user_guide/indexing.html#returning-a-view-versus-a-copy\n",
      "  records_2017['Date'] = records_2017['Date'].dt.strftime('%B, %Y')\n"
     ]
    }
   ],
   "source": [
    "# Task 9: List the records which will display the month names, succesful landing_outcome in ground pad, booster versions, launch_site for the months in year 2017\n",
    "df['Date']= pd.to_datetime(df['Date'], infer_datetime_format=True)\n",
    "records_2017 = df[(df['Landing_Outcome'] == 'Success (ground pad)') & (df['Date'].dt.strftime('%Y') == '2017')]\n",
    "records_2017['Date'] = records_2017['Date'].dt.strftime('%B, %Y')\n",
    "records_2017 = records_2017[['Date', 'Landing_Outcome', 'Booster_Version', 'Launch_Site']]\n",
    "print('Task 9:\\n', records_2017)\n",
    "# .dt.strftime('%d/%m/%Y')"
   ]
  },
  {
   "cell_type": "code",
   "execution_count": 100,
   "metadata": {},
   "outputs": [
    {
     "name": "stdout",
     "output_type": "stream",
     "text": [
      "Task 10:\n",
      " Empty DataFrame\n",
      "Columns: [Landing_Outcome, Successful_Landing_Count]\n",
      "Index: []\n"
     ]
    }
   ],
   "source": [
    "# Task 10: Rank the count of successful landing_outcomes between the date 2010-06-04 and 2017-03-20 in descending order.\n",
    "successful_landings = df[(df['Landing_Outcome'] == 'Success') & (df['Date'] >= '2010-06-04') & (df['Date'] <= '2017-03-20')]\n",
    "successful_landings = successful_landings.groupby('Landing_Outcome').size().reset_index(name='Successful_Landing_Count')\n",
    "#successful_\n",
    "print('Task 10:\\n', successful_landings)"
   ]
  }
 ],
 "metadata": {
  "kernelspec": {
   "display_name": "Python 3",
   "language": "python",
   "name": "python3"
  },
  "language_info": {
   "codemirror_mode": {
    "name": "ipython",
    "version": 3
   },
   "file_extension": ".py",
   "mimetype": "text/x-python",
   "name": "python",
   "nbconvert_exporter": "python",
   "pygments_lexer": "ipython3",
   "version": "3.10.7"
  },
  "orig_nbformat": 4,
  "vscode": {
   "interpreter": {
    "hash": "ba40e4634ddf875ceb6a9d7971afc7319e26bc317ef08ce7a853d2c77b90af89"
   }
  }
 },
 "nbformat": 4,
 "nbformat_minor": 2
}
